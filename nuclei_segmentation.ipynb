{
 "cells": [
  {
   "cell_type": "code",
   "execution_count": 1,
   "metadata": {
    "_cell_guid": "b1076dfc-b9ad-4769-8c92-a6c4dae69d19",
    "_uuid": "8f2839f25d086af736a60e9eeb907d3b93b6e0e5"
   },
   "outputs": [
    {
     "ename": "IndentationError",
     "evalue": "unexpected indent (<ipython-input-1-e8cb81178ec3>, line 12)",
     "output_type": "error",
     "traceback": [
      "\u001b[0;36m  File \u001b[0;32m\"<ipython-input-1-e8cb81178ec3>\"\u001b[0;36m, line \u001b[0;32m12\u001b[0m\n\u001b[0;31m    print(os.listdir(\"/kaggle/input/iitunet50/modelcheck.h5\"))\u001b[0m\n\u001b[0m    ^\u001b[0m\n\u001b[0;31mIndentationError\u001b[0m\u001b[0;31m:\u001b[0m unexpected indent\n"
     ]
    }
   ],
   "source": [
    "# This Python 3 environment comes with many helpful analytics libraries installed\n",
    "# It is defined by the kaggle/python docker image: https://github.com/kaggle/docker-python\n",
    "# For example, here's several helpful packages to load in \n",
    "\n",
    "import numpy as np # linear algebra\n",
    "import pandas as pd # data processing, CSV file I/O (e.g. pd.read_csv)\n",
    "\n",
    "# Input data files are available in the \"../input/\" directory.\n",
    "# For example, running this (by clicking run or pressing Shift+Enter) will list the files in the input directory\n",
    "\n",
    "import os\n",
    "            print(os.listdir(\"/kaggle/input/iitunet50/modelcheck.h5\"))\n",
    "\n",
    "# Any results you write to the current directory are saved as output."
   ]
  },
  {
   "cell_type": "code",
   "execution_count": 2,
   "metadata": {},
   "outputs": [
    {
     "name": "stderr",
     "output_type": "stream",
     "text": [
      "Using TensorFlow backend.\n"
     ]
    }
   ],
   "source": [
    "import os\n",
    "import sys\n",
    "import random\n",
    "import warnings\n",
    "import numpy as np\n",
    "import pandas as pd\n",
    "import matplotlib.pyplot as plt\n",
    "from tqdm import tqdm\n",
    "from itertools import chain\n",
    "from skimage.io import imread, imshow, imread_collection, concatenate_images\n",
    "from skimage.transform import resize\n",
    "from skimage.morphology import label\n",
    "from keras.models import Model, load_model\n",
    "from keras.layers import Input\n",
    "from keras.layers.core import Dropout, Lambda\n",
    "from keras.layers.convolutional import Conv2D, Conv2DTranspose\n",
    "from keras.layers.pooling import MaxPooling2D\n",
    "from keras.layers.merge import concatenate\n",
    "from keras.callbacks import EarlyStopping, ModelCheckpoint\n",
    "from keras import backend as K\n",
    "import tensorflow as tf"
   ]
  },
  {
   "cell_type": "code",
   "execution_count": 3,
   "metadata": {
    "_cell_guid": "79c7e3d0-c299-4dcb-8224-4455121ee9b0",
    "_uuid": "d629ff2d2480ee46fbb7e2d37f6b5fab8052498a"
   },
   "outputs": [
    {
     "name": "stdout",
     "output_type": "stream",
     "text": [
      "TRAIN\n"
     ]
    },
    {
     "name": "stderr",
     "output_type": "stream",
     "text": [
      "100%|██████████| 590/590 [00:16<00:00, 35.28it/s]"
     ]
    },
    {
     "name": "stdout",
     "output_type": "stream",
     "text": [
      "TEST\n"
     ]
    },
    {
     "name": "stderr",
     "output_type": "stream",
     "text": [
      "\n",
      "100%|██████████| 80/80 [00:01<00:00, 49.36it/s]"
     ]
    },
    {
     "name": "stdout",
     "output_type": "stream",
     "text": [
      "Done!\n"
     ]
    },
    {
     "name": "stderr",
     "output_type": "stream",
     "text": [
      "\n"
     ]
    }
   ],
   "source": [
    "width = 128\n",
    "height = 128\n",
    "channel = 3\n",
    "train_path = '/kaggle/input/iittest/train_data/data/raw/'\n",
    "train_mask_path = '/kaggle/input/iittest/train_data/data/gt/'\n",
    "test_path = '/kaggle/input/iittest/test_data/test_raw/'\n",
    "\n",
    "warnings.filterwarnings('ignore', category=UserWarning, module='skimage')\n",
    "seed = 78\n",
    "random.seed = seed\n",
    "np.random.seed = seed\n",
    "\n",
    "train_names = next(os.walk(train_path))[2]\n",
    "test_names = next(os.walk(test_path))[2]\n",
    "X_train = np.zeros((len(train_names), height, width, channel), dtype=np.uint8)\n",
    "Y_train = np.zeros((len(train_names), height, width, 1), dtype=np.bool)\n",
    "print('TRAIN')\n",
    "sys.stdout.flush()\n",
    "for n, id_ in tqdm(enumerate(train_names), total=len(train_names)):\n",
    "    path = train_path \n",
    "    img = imread(path  + id_ )[:,:,:channel]\n",
    "    img = resize(img, (height, width), mode='constant', preserve_range=True)\n",
    "    X_train[n] = img\n",
    "    mask = np.zeros((height, width, 1), dtype=np.bool)\n",
    "    mask_ = imread(train_mask_path + id_ )\n",
    "    mask_ = np.expand_dims(resize(mask_, (height, width), mode='constant', \n",
    "                                      preserve_range=True), axis=-1)\n",
    "    Y_train[n] = mask_\n",
    "\n",
    "X_test = np.zeros((len(test_names), height, width, channel), dtype=np.uint8)\n",
    "sizes_test = []\n",
    "print('TEST')\n",
    "sys.stdout.flush()\n",
    "for n, id_ in tqdm(enumerate(test_names), total=len(test_names)):\n",
    "    path = test_path \n",
    "    img = imread(path  + id_ )[:,:,:channel]\n",
    "    sizes_test.append([img.shape[0], img.shape[1]])\n",
    "    img = resize(img, (height, width), mode='constant', preserve_range=True)\n",
    "    X_test[n] = img\n",
    "\n",
    "print('Done!')"
   ]
  },
  {
   "cell_type": "code",
   "execution_count": 4,
   "metadata": {},
   "outputs": [],
   "source": [
    "def mean_iou(y_true, y_pred):\n",
    "    prec = []\n",
    "    for t in np.arange(0.5, 1.0, 0.05):\n",
    "        y_pred_ = tf.to_int32(y_pred > t)\n",
    "        score, up_opt = tf.metrics.mean_iou(y_true, y_pred_, 2)\n",
    "        K.get_session().run(tf.local_variables_initializer())\n",
    "        with tf.control_dependencies([up_opt]):\n",
    "            score = tf.identity(score)\n",
    "        prec.append(score)\n",
    "    return K.mean(K.stack(prec), axis=0)"
   ]
  },
  {
   "cell_type": "code",
   "execution_count": 5,
   "metadata": {},
   "outputs": [
    {
     "name": "stdout",
     "output_type": "stream",
     "text": [
      "WARNING:tensorflow:From /opt/conda/lib/python3.6/site-packages/tensorflow/python/framework/op_def_library.py:263: colocate_with (from tensorflow.python.framework.ops) is deprecated and will be removed in a future version.\n",
      "Instructions for updating:\n",
      "Colocations handled automatically by placer.\n",
      "WARNING:tensorflow:From /opt/conda/lib/python3.6/site-packages/keras/backend/tensorflow_backend.py:3445: calling dropout (from tensorflow.python.ops.nn_ops) with keep_prob is deprecated and will be removed in a future version.\n",
      "Instructions for updating:\n",
      "Please use `rate` instead of `keep_prob`. Rate should be set to `rate = 1 - keep_prob`.\n",
      "WARNING:tensorflow:From <ipython-input-4-eac6d04dc953>:4: to_int32 (from tensorflow.python.ops.math_ops) is deprecated and will be removed in a future version.\n",
      "Instructions for updating:\n",
      "Use tf.cast instead.\n",
      "WARNING:tensorflow:From /opt/conda/lib/python3.6/site-packages/tensorflow/python/ops/metrics_impl.py:259: to_int64 (from tensorflow.python.ops.math_ops) is deprecated and will be removed in a future version.\n",
      "Instructions for updating:\n",
      "Use tf.cast instead.\n",
      "WARNING:tensorflow:From /opt/conda/lib/python3.6/site-packages/tensorflow/python/ops/metrics_impl.py:1138: to_float (from tensorflow.python.ops.math_ops) is deprecated and will be removed in a future version.\n",
      "Instructions for updating:\n",
      "Use tf.cast instead.\n",
      "WARNING:tensorflow:From /opt/conda/lib/python3.6/site-packages/tensorflow/python/ops/metrics_impl.py:1155: div (from tensorflow.python.ops.math_ops) is deprecated and will be removed in a future version.\n",
      "Instructions for updating:\n",
      "Deprecated in favor of operator or tf.math.divide.\n",
      "531/531 [==============================] - 2s 3ms/step\n",
      "59/59 [==============================] - 0s 2ms/step\n",
      "80/80 [==============================] - 0s 1ms/step\n"
     ]
    }
   ],
   "source": [
    "# Predict on train, val and test\n",
    "model = load_model('/kaggle/input/iitunet50/modelcheck.h5', custom_objects={'mean_iou': mean_iou})\n",
    "preds_train = model.predict(X_train[:int(X_train.shape[0]*0.9)], verbose=1)\n",
    "preds_val = model.predict(X_train[int(X_train.shape[0]*0.9):], verbose=1)\n",
    "preds_test = model.predict(X_test, verbose=1)\n",
    "\n",
    "# Threshold predictions\n",
    "preds_train_t = (preds_train > 0.5).astype(np.uint8)\n",
    "preds_val_t = (preds_val > 0.5).astype(np.uint8)\n",
    "preds_test_t = (preds_test > 0.5).astype(np.uint8)\n",
    "\n",
    "# Create list of upsampled test masks\n",
    "preds_test_upsampled = []\n",
    "for i in range(len(preds_test)):\n",
    "    preds_test_upsampled.append(resize(np.squeeze(preds_test[i]), \n",
    "                                       (sizes_test[i][0], sizes_test[i][1]), \n",
    "                                       mode='constant', preserve_range=True))"
   ]
  },
  {
   "cell_type": "code",
   "execution_count": 6,
   "metadata": {},
   "outputs": [
    {
     "name": "stdout",
     "output_type": "stream",
     "text": [
      "(256, 256)\n",
      "(360, 360)\n",
      "(256, 256)\n",
      "(256, 256)\n",
      "(256, 320)\n",
      "(360, 360)\n",
      "(360, 360)\n",
      "(256, 320)\n",
      "(256, 256)\n",
      "(256, 256)\n",
      "(360, 360)\n",
      "(1024, 1024)\n",
      "(256, 320)\n",
      "(256, 256)\n",
      "(520, 696)\n",
      "(256, 256)\n",
      "(256, 256)\n",
      "(256, 320)\n",
      "(256, 256)\n",
      "(360, 360)\n",
      "(256, 256)\n",
      "(520, 696)\n",
      "(360, 360)\n",
      "(256, 256)\n",
      "(520, 696)\n",
      "(256, 256)\n",
      "(256, 256)\n",
      "(512, 640)\n",
      "(256, 256)\n",
      "(360, 360)\n",
      "(520, 696)\n",
      "(256, 320)\n",
      "(256, 256)\n",
      "(520, 696)\n",
      "(360, 360)\n",
      "(256, 256)\n",
      "(360, 360)\n",
      "(256, 256)\n",
      "(520, 696)\n",
      "(256, 256)\n",
      "(1024, 1024)\n",
      "(256, 320)\n",
      "(256, 256)\n",
      "(256, 320)\n",
      "(256, 320)\n",
      "(256, 256)\n",
      "(256, 256)\n",
      "(256, 320)\n",
      "(360, 360)\n",
      "(256, 256)\n",
      "(512, 640)\n",
      "(256, 256)\n",
      "(256, 256)\n",
      "(520, 696)\n",
      "(256, 256)\n",
      "(520, 696)\n",
      "(256, 256)\n",
      "(256, 256)\n",
      "(520, 696)\n",
      "(256, 256)\n",
      "(360, 360)\n",
      "(256, 256)\n",
      "(520, 696)\n",
      "(256, 256)\n",
      "(256, 256)\n",
      "(256, 256)\n",
      "(520, 696)\n",
      "(360, 360)\n",
      "(256, 256)\n",
      "(360, 360)\n",
      "(256, 256)\n",
      "(520, 696)\n",
      "(256, 320)\n",
      "(256, 256)\n",
      "(360, 360)\n",
      "(256, 256)\n",
      "(256, 320)\n",
      "(360, 360)\n",
      "(360, 360)\n",
      "(256, 256)\n"
     ]
    }
   ],
   "source": [
    "for i in preds_test_upsampled:\n",
    "    print(np.array(i).shape)\n",
    "    "
   ]
  },
  {
   "cell_type": "code",
   "execution_count": 7,
   "metadata": {},
   "outputs": [
    {
     "data": {
      "image/png": "[encoded data removed]",
      "text/plain": [
       "<Figure size 432x288 with 1 Axes>"
      ]
     },
     "metadata": {},
     "output_type": "display_data"
    },
    {
     "data": {
      "image/png": "[encoded data removed]",
      "text/plain": [
       "<Figure size 432x288 with 1 Axes>"
      ]
     },
     "metadata": {},
     "output_type": "display_data"
    },
    {
     "data": {
      "image/png": "[encoded data removed]",
      "text/plain": [
       "<Figure size 432x288 with 2 Axes>"
      ]
     },
     "metadata": {},
     "output_type": "display_data"
    }
   ],
   "source": [
    "# Perform a sanity check on some random validation samples\n",
    "ix = random.randint(0, len(preds_val_t))\n",
    "imshow(X_train[int(X_train.shape[0]*0.9):][ix])\n",
    "plt.show()\n",
    "imshow(np.squeeze(Y_train[int(Y_train.shape[0]*0.9):][ix]))\n",
    "plt.show()\n",
    "imshow(np.squeeze(preds_val_t[ix]))\n",
    "plt.show()"
   ]
  },
  {
   "cell_type": "code",
   "execution_count": 8,
   "metadata": {},
   "outputs": [],
   "source": [
    "import scipy.misc\n"
   ]
  },
  {
   "cell_type": "code",
   "execution_count": 9,
   "metadata": {},
   "outputs": [],
   "source": [
    "!mkdir outp"
   ]
  },
  {
   "cell_type": "code",
   "execution_count": 10,
   "metadata": {},
   "outputs": [
    {
     "name": "stdout",
     "output_type": "stream",
     "text": [
      "zbnowxrluhyfopgqemwk.jpg\n",
      "xkrthiidzdormknuowqh.jpg\n",
      "xixddbkssvvaenavsinc.jpg\n",
      "zdutfogwcypxnotmddue.jpg\n",
      "yadtwvvdfhkmcygocojo.jpg\n",
      "xsixnflpmphvsxjoilal.jpg\n",
      "zdayadxvdebajoajuxyn.jpg\n",
      "xwfbirtwwgwczvjbxdej.jpg\n",
      "xukgfqcvrnlunyultuin.jpg\n",
      "znlohahjgyqeaarawntu.jpg\n",
      "zbiymafariwegbjfthjm.jpg\n",
      "yfwrsixfukpkhszoxait.jpg\n",
      "zmtlahrwnzbnrlpnxrvu.jpg\n",
      "yeiyjuggmspdjwwtqecg.jpg\n",
      "xqhrvhjbyqauvcpgddif.jpg\n",
      "znutoceinfnvnznzenkc.jpg\n",
      "xkwnlyabivdnogjvfmvy.jpg\n",
      "xryjestdcyexzbyejkpd.jpg\n",
      "zgfczxnbokwllyxricqj.jpg\n",
      "yytclmazzgmblmdrhfna.jpg\n",
      "yddvkjhprdpkqziuwazl.jpg\n",
      "zgcgzdtglcwppmqaojoy.jpg\n",
      "znevflexlhvuzuxjzdwu.jpg\n",
      "xqjpbazxvoajbbauswpt.jpg\n",
      "xtyjpvjalgwopxcjuvyj.jpg\n",
      "zgwyxmwghotwnjpvreas.jpg\n",
      "xvlxkykdvupwbwkyovsz.jpg\n",
      "xwemfxvgtebcufplvfgl.jpg\n",
      "yivbjiqpupqnllvzvpbi.jpg\n",
      "zlskzksklyrqzqousokk.jpg\n",
      "zvbehepfoibdistyoopk.jpg\n",
      "zqhqlpqocansetqmleuq.jpg\n",
      "zlfsramhxifjrdtabjjm.jpg\n",
      "xmjesioderxukfvrrypg.jpg\n",
      "xkjmofhvtqgnrcqmfcjg.jpg\n",
      "xoobkbhbhjigycazfepj.jpg\n",
      "zcvkniidiamdjekambkf.jpg\n",
      "xotfgjqilopziozwsqml.jpg\n",
      "yusdjsztxuwsdkppntqt.jpg\n",
      "yrgasbsiqakudllstqxz.jpg\n",
      "zlrjmzmtwzrwjdupkgay.jpg\n",
      "yiqbdgxcyqskqzhiwlio.jpg\n",
      "ymsembkrjvwslnqusxhl.jpg\n",
      "ytjrkvkkgppotrnydtgd.jpg\n",
      "zbfwxtfwwhhmqifdvjjl.jpg\n",
      "zyqioyzwbotlsadseujv.jpg\n",
      "ydtemuyufjmbnaktbzga.jpg\n",
      "ztkewznfpwvglbrzvyus.jpg\n",
      "xrqallympwbwglmjfunr.jpg\n",
      "ydbnadfmestmqgrewhqt.jpg\n",
      "yhktqoijvvcejjqsszbk.jpg\n",
      "zzenjqdkrxzqbmecgyhg.jpg\n",
      "xzkiakxzrxoievvylyqw.jpg\n",
      "zjyvkxjbriaqvtnxieoe.jpg\n",
      "xjbvcruwvsreavtubrxc.jpg\n"
     ]
    },
    {
     "name": "stderr",
     "output_type": "stream",
     "text": [
      "/opt/conda/lib/python3.6/site-packages/ipykernel_launcher.py:8: DeprecationWarning: `toimage` is deprecated!\n",
      "`toimage` is deprecated in SciPy 1.0.0, and will be removed in 1.2.0.\n",
      "Use Pillow's ``Image.fromarray`` directly instead.\n",
      "  \n"
     ]
    },
    {
     "name": "stdout",
     "output_type": "stream",
     "text": [
      "znxerdutiwemugwoehlg.jpg\n",
      "zukghlfdbqzhzbdfwxqq.jpg\n",
      "xyurmiicrgtxlkwfmhln.jpg\n",
      "xzvbhrxklpauagpzjfvr.jpg\n",
      "zheenfrdiqilpwfxpixw.jpg\n",
      "yopsevqvkaeacdlduffy.jpg\n",
      "zxlirzdcmmrgjzqbfqip.jpg\n",
      "xfcmwczpgkudxqnitlyx.jpg\n",
      "xspjtleectgdmavgmcbx.jpg\n",
      "ywuowrlwprjegmpzisew.jpg\n",
      "xwprczlgrojuwkrvfegj.jpg\n",
      "yygbtnbcfuvuzyddbkks.jpg\n",
      "xdywzbdsxlcikzrilhky.jpg\n",
      "xgrjqrerkblzwckyuzsj.jpg\n",
      "ytpnvwpiryxhuhewvbas.jpg\n",
      "znojcfpcmrrzcfnydwxm.jpg\n",
      "yybwrmvkbankhhxhluwa.jpg\n",
      "xkveseaxhnbozckaxfgt.jpg\n",
      "ypovccalgsjmnlbdjegs.jpg\n",
      "yrhhnbvmhbiykfmxlqid.jpg\n",
      "xrszamaqidvouvuxllqb.jpg\n",
      "xptwwylttpeekyhvveyw.jpg\n",
      "yddepmeqgneywylyyaxq.jpg\n",
      "yzjjlmqgmmrmksnwqwom.jpg\n",
      "znbvorsgjymitomvqvtb.jpg\n"
     ]
    }
   ],
   "source": [
    "new_test_ids = []\n",
    "rles = []\n",
    "for n, id_ in enumerate(test_names):\n",
    "    print(id_)\n",
    "    #     rle = list(prob_to_rles(preds_test_upsampled[n]))\n",
    "#     rles.extend(rle)\n",
    "#     new_test_ids.extend([id_] * len(rle))\n",
    "    scipy.misc.toimage(preds_test_upsampled[n]).save('outp/'+id_)"
   ]
  },
  {
   "cell_type": "code",
   "execution_count": 11,
   "metadata": {},
   "outputs": [
    {
     "name": "stdout",
     "output_type": "stream",
     "text": [
      "xdywzbdsxlcikzrilhky.jpg  xzkiakxzrxoievvylyqw.jpg  zbnowxrluhyfopgqemwk.jpg\r\n",
      "xfcmwczpgkudxqnitlyx.jpg  xzvbhrxklpauagpzjfvr.jpg  zcvkniidiamdjekambkf.jpg\r\n",
      "xgrjqrerkblzwckyuzsj.jpg  yadtwvvdfhkmcygocojo.jpg  zdayadxvdebajoajuxyn.jpg\r\n",
      "xixddbkssvvaenavsinc.jpg  ydbnadfmestmqgrewhqt.jpg  zdutfogwcypxnotmddue.jpg\r\n",
      "xjbvcruwvsreavtubrxc.jpg  yddepmeqgneywylyyaxq.jpg  zgcgzdtglcwppmqaojoy.jpg\r\n",
      "xkjmofhvtqgnrcqmfcjg.jpg  yddvkjhprdpkqziuwazl.jpg  zgfczxnbokwllyxricqj.jpg\r\n",
      "xkrthiidzdormknuowqh.jpg  ydtemuyufjmbnaktbzga.jpg  zgwyxmwghotwnjpvreas.jpg\r\n",
      "xkveseaxhnbozckaxfgt.jpg  yeiyjuggmspdjwwtqecg.jpg  zheenfrdiqilpwfxpixw.jpg\r\n",
      "xkwnlyabivdnogjvfmvy.jpg  yfwrsixfukpkhszoxait.jpg  zjyvkxjbriaqvtnxieoe.jpg\r\n",
      "xmjesioderxukfvrrypg.jpg  yhktqoijvvcejjqsszbk.jpg  zlfsramhxifjrdtabjjm.jpg\r\n",
      "xoobkbhbhjigycazfepj.jpg  yiqbdgxcyqskqzhiwlio.jpg  zlrjmzmtwzrwjdupkgay.jpg\r\n",
      "xotfgjqilopziozwsqml.jpg  yivbjiqpupqnllvzvpbi.jpg  zlskzksklyrqzqousokk.jpg\r\n",
      "xptwwylttpeekyhvveyw.jpg  ymsembkrjvwslnqusxhl.jpg  zmtlahrwnzbnrlpnxrvu.jpg\r\n",
      "xqhrvhjbyqauvcpgddif.jpg  yopsevqvkaeacdlduffy.jpg  znbvorsgjymitomvqvtb.jpg\r\n",
      "xqjpbazxvoajbbauswpt.jpg  ypovccalgsjmnlbdjegs.jpg  znevflexlhvuzuxjzdwu.jpg\r\n",
      "xrqallympwbwglmjfunr.jpg  yrgasbsiqakudllstqxz.jpg  znlohahjgyqeaarawntu.jpg\r\n",
      "xrszamaqidvouvuxllqb.jpg  yrhhnbvmhbiykfmxlqid.jpg  znojcfpcmrrzcfnydwxm.jpg\r\n",
      "xryjestdcyexzbyejkpd.jpg  ytjrkvkkgppotrnydtgd.jpg  znutoceinfnvnznzenkc.jpg\r\n",
      "xsixnflpmphvsxjoilal.jpg  ytpnvwpiryxhuhewvbas.jpg  znxerdutiwemugwoehlg.jpg\r\n",
      "xspjtleectgdmavgmcbx.jpg  yusdjsztxuwsdkppntqt.jpg  zqhqlpqocansetqmleuq.jpg\r\n",
      "xtyjpvjalgwopxcjuvyj.jpg  ywuowrlwprjegmpzisew.jpg  ztkewznfpwvglbrzvyus.jpg\r\n",
      "xukgfqcvrnlunyultuin.jpg  yybwrmvkbankhhxhluwa.jpg  zukghlfdbqzhzbdfwxqq.jpg\r\n",
      "xvlxkykdvupwbwkyovsz.jpg  yygbtnbcfuvuzyddbkks.jpg  zvbehepfoibdistyoopk.jpg\r\n",
      "xwemfxvgtebcufplvfgl.jpg  yytclmazzgmblmdrhfna.jpg  zxlirzdcmmrgjzqbfqip.jpg\r\n",
      "xwfbirtwwgwczvjbxdej.jpg  yzjjlmqgmmrmksnwqwom.jpg  zyqioyzwbotlsadseujv.jpg\r\n",
      "xwprczlgrojuwkrvfegj.jpg  zbfwxtfwwhhmqifdvjjl.jpg  zzenjqdkrxzqbmecgyhg.jpg\r\n",
      "xyurmiicrgtxlkwfmhln.jpg  zbiymafariwegbjfthjm.jpg\r\n"
     ]
    }
   ],
   "source": [
    "!ls outp"
   ]
  },
  {
   "cell_type": "code",
   "execution_count": 12,
   "metadata": {},
   "outputs": [],
   "source": [
    "import os\n",
    "import zipfile\n",
    "\n",
    "def zipdir(path, ziph):\n",
    "    # ziph is zipfile handle\n",
    "    for root, dirs, files in os.walk('outp/'):\n",
    "        for file in files:\n",
    "            ziph.write(os.path.join(root, file))\n",
    "\n",
    "zipf = zipfile.ZipFile('outp.zip', 'w', zipfile.ZIP_DEFLATED)\n",
    "zipdir('tmp/', zipf)\n",
    "zipf.close()"
   ]
  },
  {
   "cell_type": "code",
   "execution_count": 13,
   "metadata": {},
   "outputs": [
    {
     "data": {
      "text/plain": [
       "'/kaggle/working/outpu.zip'"
      ]
     },
     "execution_count": 13,
     "metadata": {},
     "output_type": "execute_result"
    }
   ],
   "source": [
    "import shutil\n",
    "shutil.make_archive('outpu', 'zip', 'outp/')"
   ]
  },
  {
   "cell_type": "code",
   "execution_count": 14,
   "metadata": {},
   "outputs": [
    {
     "name": "stdout",
     "output_type": "stream",
     "text": [
      "__notebook__.ipynb  __output__.json  outp  outp.zip  outpu.zip\r\n"
     ]
    }
   ],
   "source": [
    "!ls"
   ]
  },
  {
   "cell_type": "code",
   "execution_count": 15,
   "metadata": {},
   "outputs": [],
   "source": [
    "# %pylab inline\n",
    "# import matplotlib.pyplot as plt\n",
    "# import matplotlib.image as mpimg\n",
    "# img=mpimg.imread('xwfbirtwwgwczvjbxdej.jpg')\n",
    "# print(img.shape)\n",
    "# imgplot = plt.imshow(img, cmap='gray', vmin=0, vmax=255)\n",
    "# plt.show()"
   ]
  },
  {
   "cell_type": "code",
   "execution_count": 16,
   "metadata": {},
   "outputs": [],
   "source": []
  }
 ],
 "metadata": {
  "kernelspec": {
   "display_name": "Python 3",
   "language": "python",
   "name": "python3"
  },
  "language_info": {
   "codemirror_mode": {
    "name": "ipython",
    "version": 3
   },
   "file_extension": ".py",
   "mimetype": "text/x-python",
   "name": "python",
   "nbconvert_exporter": "python",
   "pygments_lexer": "ipython3",
   "version": "3.6.4"
  }
 },
 "nbformat": 4,
 "nbformat_minor": 1
}
